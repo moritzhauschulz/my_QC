{
 "cells": [
  {
   "cell_type": "code",
   "execution_count": 218,
   "metadata": {},
   "outputs": [],
   "source": [
    "from qiskit import *\n",
    "from qiskit_aer import AerSimulator\n",
    "from qiskit.quantum_info import Pauli\n",
    "from qiskit.visualization import plot_histogram\n",
    "from qiskit.visualization import plot_bloch_multivector\n",
    "from qiskit.quantum_info import Statevector\n",
    "\n",
    "def deutsch_function(case: int):\n",
    "    \"\"\"\n",
    "    Generate a valid Deutsch function as a `QuantumCircuit`.\n",
    "    \"\"\"\n",
    "    if case not in [1, 2, 3, 4]:\n",
    "        raise ValueError(\"`case` must be 1, 2, 3, or 4.\")\n",
    "\n",
    "    f = QuantumCircuit(2)\n",
    "    if case in [2, 3]:\n",
    "        f.cx(0, 1)\n",
    "    if case in [3, 4]:\n",
    "        f.x(1)\n",
    "    return f\n",
    "\n",
    "def deutsch_circuit(Uf: QuantumCircuit):\n",
    "    \"\"\"\n",
    "    Build deutsch circuit with given oracle.\n",
    "    \"\"\"\n",
    "    qc = QuantumCircuit(2,1)\n",
    "    qc.x(1)\n",
    "    qc.h(1)\n",
    "    qc.h(0)\n",
    "    qc.compose(Uf, inplace=True)\n",
    "    qc.h(0)\n",
    "    qc.measure(0,0)\n",
    "\n",
    "    return qc\n",
    "\n",
    "def apply_deutsch(Uf: QuantumCircuit):\n",
    "    \"\"\"\n",
    "    Run deutsch algorithm on given oracle.\n",
    "    \"\"\"\n",
    "    sim = AerSimulator()\n",
    "    qc = deutsch_circuit(Uf)\n",
    "    job = sim.run(qc, shots=1, memory=True)\n",
    "    result = job.result()\n",
    "    measurements = result.get_memory()\n",
    "    if measurements[0] == \"0\":\n",
    "        return \"constant\"\n",
    "    return \"balanced\"\n",
    "    "
   ]
  },
  {
   "cell_type": "code",
   "execution_count": 210,
   "metadata": {},
   "outputs": [
    {
     "data": {
      "image/png": "[encoded data removed]",
      "text/plain": [
       "<Figure size 214.56x200.667 with 1 Axes>"
      ]
     },
     "execution_count": 210,
     "metadata": {},
     "output_type": "execute_result"
    }
   ],
   "source": [
    "Uf_circuit1 = deutsch_function(1)\n",
    "Uf_circuit2 = deutsch_function(2)\n",
    "Uf_circuit3 = deutsch_function(3)\n",
    "Uf_circuit4 = deutsch_function(4)\n",
    "Uf_circuit1.draw(output='mpl', cregbundle=False, initial_state=True, reverse_bits=True)\n"
   ]
  },
  {
   "cell_type": "code",
   "execution_count": 214,
   "metadata": {},
   "outputs": [
    {
     "data": {
      "image/png": "[encoded data removed]",
      "text/plain": [
       "<Figure size 590.81x284.278 with 1 Axes>"
      ]
     },
     "execution_count": 214,
     "metadata": {},
     "output_type": "execute_result"
    }
   ],
   "source": [
    "qc1 = deutsch_circuit(Uf_circuit1)\n",
    "deutsch_circuit(deutsch_function(3)).draw(output='mpl', cregbundle=False, initial_state=True)"
   ]
  },
  {
   "cell_type": "code",
   "execution_count": 221,
   "metadata": {},
   "outputs": [
    {
     "name": "stdout",
     "output_type": "stream",
     "text": [
      "constant\n"
     ]
    }
   ],
   "source": [
    "print(apply_deutsch(Uf_circuit3))"
   ]
  }
 ],
 "metadata": {
  "kernelspec": {
   "display_name": ".venv",
   "language": "python",
   "name": "python3"
  },
  "language_info": {
   "codemirror_mode": {
    "name": "ipython",
    "version": 3
   },
   "file_extension": ".py",
   "mimetype": "text/x-python",
   "name": "python",
   "nbconvert_exporter": "python",
   "pygments_lexer": "ipython3",
   "version": "3.11.6"
  }
 },
 "nbformat": 4,
 "nbformat_minor": 2
}
