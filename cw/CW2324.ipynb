{
 "cells": [
  {
   "cell_type": "markdown",
   "id": "b5ca880f-e7cc-4b4c-b929-dda3d5f171fa",
   "metadata": {},
   "source": [
    "# Fixed Point Grover's algorithm\n",
    "\n",
    "We have seen that the probability of measuring the marked state $a$ after $t$ steps of Grover's algorithm is $\\sin^2((2t+1)\\theta)$. \n",
    "This means that if we perform too many steps we decrease the probability of measuring $a$.\n",
    "It turns out that a modification of Grover's algorithm allows us to avoid this, and produces an algorithm which has $a$ as a fixed point, so that the more we run the algorithm, the more accurate result we get.\n",
    "In this coursework, you will implement such an algorithm and verify its properties."
   ]
  },
  {
   "cell_type": "markdown",
   "id": "4e6c460b-ce3d-411b-936a-c99f503d2d20",
   "metadata": {},
   "source": [
    "## Setup\n",
    "\n",
    "Make sure you have installed Qiskit following [https://docs.quantum.ibm.com/start/install](https://docs.quantum.ibm.com/start/install) and install also the AerSimulator with `pip install qiskit-aer`\n",
    "\n",
    "Run these cells to import the needed modules"
   ]
  },
  {
   "cell_type": "code",
   "execution_count": null,
   "id": "3410e2d2-d2c9-4c9d-a7f3-7b9ea2a51236",
   "metadata": {},
   "outputs": [],
   "source": [
    "# Built-in modules\n",
    "import math\n",
    "import warnings\n",
    "warnings.filterwarnings(\"ignore\")\n",
    "\n",
    "# Imports from Qiskit\n",
    "from qiskit import QuantumCircuit\n",
    "from qiskit.visualization import plot_histogram\n",
    "\n",
    "from qiskit_aer import AerSimulator"
   ]
  },
  {
   "cell_type": "markdown",
   "id": "1f4b3ae2-7ec6-4330-9aa5-93996779ff2c",
   "metadata": {},
   "source": [
    "## Generalised V\n",
    "\n",
    "We define an operator $S(\\beta)$ that acts on $n+1$ qubits, such that\n",
    "$$\n",
    "S(\\beta)|x\\rangle|0\\rangle = e^{-i\\beta/2}V(\\beta)|x\\rangle|0\\rangle\\,,\\quad \n",
    "V(\\beta) = \\exp(i\\beta |a\\rangle\\langle a|)= I - (1-e^{i\\beta})|a\\rangle\\langle a|\\,.\n",
    "$$\n",
    "Here $\\beta$ is a given angle and note that $V(\\pm \\pi)$ coincides with $V$ of the lecture. "
   ]
  },
  {
   "cell_type": "markdown",
   "id": "ad04403f-325a-4b97-b297-bc4b85f1bb8e",
   "metadata": {},
   "source": [
    "### Exercise 1: Implement $S(\\beta)$ (40 points)\n",
    "Create a function which takes as inputs $\\beta,a$ and returns a Qiskit circuit for $S(\\beta)$ by implementing the following circuit:\n",
    "\n",
    "<img src=\"s_beta.png\" alt=\"S(beta) circuit\" style=\"height: 300px; width:400px;\"/>\n",
    "\n",
    "where $U=U_f$ is as usual the oracle such that \n",
    "$$\n",
    "U_f|a\\rangle|y\\rangle=|a\\rangle|y\\oplus 1\\rangle\n",
    "\\,,\\quad \n",
    "U_f|a_\\perp\\rangle|y\\rangle=|a_\\perp\\rangle|y\\rangle\n",
    "$$\n",
    "for any $\\langle a|a_\\perp\\rangle=0$ and\n",
    "$$\n",
    "Z_\\beta\n",
    "=\n",
    "\\exp\\left(-i\\frac{\\beta}{2}Z\\right)\n",
    "$$\n",
    "with $Z$ the Pauli matrix."
   ]
  },
  {
   "cell_type": "code",
   "execution_count": null,
   "id": "87ceb0f2-14ca-45cc-8e3f-941ee39ba9d3",
   "metadata": {},
   "outputs": [],
   "source": [
    "def create_s(marked_state, beta):\n",
    "    \"\"\"Implement S(\\beta)\n",
    "\n",
    "    Parameters:\n",
    "        marked_state (str): Marked state of oracle (a)\n",
    "        beta (float): angle\n",
    "\n",
    "    Returns:\n",
    "        QuantumCircuit: Quantum circuit representing S(\\beta)\n",
    "    \"\"\"\n",
    "    # ..."
   ]
  },
  {
   "cell_type": "markdown",
   "id": "3533e447-b339-43a3-bc11-7e1aeed0ae12",
   "metadata": {},
   "source": [
    "## Generalised inversion by the mean\n",
    "\n",
    "We define the generalised inversion by the mean as\n",
    "$$\n",
    "W(\\alpha)\n",
    "=\n",
    "e^{i\\alpha/4}\n",
    "(\n",
    "I - (1-e^{-i\\alpha})|\\phi\\rangle\\langle\\phi|\n",
    ")\n",
    "$$\n",
    "with \n",
    "$$\n",
    "|\\phi\\rangle\n",
    "=\n",
    "A|0\\rangle^{\\otimes n}\n",
    "\\,,\\quad \n",
    "A = H^{\\otimes n}\n",
    ".\n",
    "$$\n",
    "For $\\alpha=\\pm$ it coincides with the inversion by the mean seen in the lecture up to a phase."
   ]
  },
  {
   "cell_type": "markdown",
   "id": "3fbb1df8-88ce-445b-a1a2-5b12d6bf4936",
   "metadata": {},
   "source": [
    "### Exercise 2: Implement $W(\\alpha)$ (60 points)\n",
    "Create a function which takes as inputs $\\alpha$ and returns a Qiskit circuit for $W(\\alpha)$ by implementing the following circuit:\n",
    "\n",
    "<img src=\"w_alpha.png\" alt=\"W(alpha) circuit\" style=\"height: 300px; width:600px;\"/>\n",
    "\n",
    "where $A=H^{\\otimes n}$, and\n",
    "\n",
    "<img src=\"empty_cnot.png\" alt=\"Negative CNOT \" style=\"height: 50px; width:300px;\"/>\n",
    "\n",
    "Hint: to implement the multi-controlled CNOT gate you can use the Qiskit method `mcx`"
   ]
  },
  {
   "cell_type": "code",
   "execution_count": null,
   "id": "f397ff82-ba86-4f55-9ee5-45da2e5283d7",
   "metadata": {},
   "outputs": [],
   "source": [
    "def create_w(alpha, num_qubits):\n",
    "    \"\"\"Implement W(\\alpha)\n",
    "\n",
    "    Parameters:\n",
    "        alpha (float): angle\n",
    "        num_qubits (int): number of qubits\n",
    "\n",
    "    Returns:\n",
    "        QuantumCircuit: Quantum circuit representing W(\\alpha)\n",
    "    \"\"\"\n",
    "    # ..."
   ]
  },
  {
   "cell_type": "markdown",
   "id": "72a8eafd-7bee-40a1-ac7c-8c56131ef1ef",
   "metadata": {},
   "source": [
    "## The full algorithm "
   ]
  },
  {
   "cell_type": "markdown",
   "id": "8722e799-4fef-4cbc-8536-2fbf8da00061",
   "metadata": {},
   "source": [
    "The full circuit is given by\n",
    "$$\n",
    "G\n",
    "=\n",
    "\\prod_{i=1}^l W(\\alpha_j) S(\\beta_j) \n",
    "$$\n",
    "The angles $\\alpha_j, \\beta_j$ can be chosen in such a way that the success probability in finding $a$ increases with $l$. We can guarantee a probability greater than $1-\\delta^2$ for $\\delta\\in (0,1]$ if we choose $L \\ge \\log(2/\\delta) \\sqrt{N}$ and the angles as defined below, with $L=2l+1$. Note the square root scaling with $N$ as in Grover's, to which the algorithm reduces when $\\delta=1$."
   ]
  },
  {
   "cell_type": "code",
   "execution_count": null,
   "id": "3742f0e7-22a8-463d-aa3f-8ada797d962a",
   "metadata": {},
   "outputs": [],
   "source": [
    "def acot(x):\n",
    "    return math.atan2(1, x)    \n",
    "\n",
    "def cheb(i, x):\n",
    "    return math.cosh(i*math.acosh(x))\n",
    "\n",
    "def gamma(L, delta):\n",
    "    return 1./cheb(1./L, 1./delta)\n",
    "\n",
    "def alpha_fixed_point(j, l, delta):\n",
    "    L = 2*l+1\n",
    "    return 2*acot(math.tan(2*math.pi*j/L)*math.sqrt(1 - gamma(L, delta)**2))\n",
    "\n",
    "def beta_fixed_point(j, l, delta):\n",
    "    return -alpha_fixed_point(l-j+1, l, delta)"
   ]
  },
  {
   "cell_type": "code",
   "execution_count": null,
   "id": "531cb23f-45f4-4e5d-8a0d-c80a63b1a62f",
   "metadata": {},
   "outputs": [],
   "source": [
    "def create_fixed_point_circuit(marked_state, num_steps, delta):\n",
    "    \"\"\"Implement G\n",
    "\n",
    "    Parameters:\n",
    "        marked_state (str): Marked state of oracle (a)\n",
    "        num_steps (int): Number of steps of the algorithm (l)\n",
    "        delta (float): Precision parameter in (0,1]\n",
    "\n",
    "    Returns:\n",
    "        QuantumCircuit: Quantum circuit G with input state preparation\n",
    "    \"\"\"\n",
    "    # Compute the number of qubits in circuit\n",
    "    num_qubits = len(marked_state)\n",
    "\n",
    "    qc = QuantumCircuit(num_qubits + 1)\n",
    "\n",
    "    # Prepare input state\n",
    "    qc.h(list(range(num_qubits)))\n",
    "\n",
    "    for j in range(num_steps):\n",
    "        alpha = alpha_fixed_point(j + 1, num_steps, delta)\n",
    "        beta = beta_fixed_point(j + 1, num_steps, delta)\n",
    "        qc.compose(create_s(marked_state, beta), inplace=True)\n",
    "        qc.compose(create_w(alpha, num_qubits), inplace=True)\n",
    "    return qc"
   ]
  },
  {
   "cell_type": "markdown",
   "id": "62293c91-471e-4dec-bc52-ef556c340391",
   "metadata": {},
   "source": [
    "Now run this algorithm for $a=00101$, $\\delta=0.5$ and varying number of steps. "
   ]
  },
  {
   "cell_type": "code",
   "execution_count": null,
   "id": "9cee1611-cd39-4e28-9ae3-30f7af4edd2b",
   "metadata": {},
   "outputs": [],
   "source": [
    "fp_qc = create_fixed_point_circuit('00101', 8, .5)\n",
    "fp_qc.measure_all()\n",
    "#fp_qc.draw(output=\"mpl\", style=\"iqp\")"
   ]
  },
  {
   "cell_type": "code",
   "execution_count": null,
   "id": "df5fbfa0-22e5-47da-85cc-257349b543c6",
   "metadata": {},
   "outputs": [],
   "source": [
    "result = AerSimulator().run(fp_qc, shots=1024, memory=True).result()\n",
    "counts = result.get_counts()\n",
    "plot_histogram(counts)"
   ]
  },
  {
   "cell_type": "markdown",
   "id": "52f56f39-c3e0-41d2-8293-288cfe55e1c2",
   "metadata": {},
   "source": [
    "Compare with the case $\\delta=1$ which corresponds to Grover's, to check the fixed point property."
   ]
  },
  {
   "cell_type": "code",
   "execution_count": null,
   "id": "9f11feae-eefa-4930-9f67-f44ce61ea1c7",
   "metadata": {},
   "outputs": [],
   "source": [
    "# Probability of measuring a in Grover's\n",
    "[math.sin((2*t+1) * math.asin(1/math.sqrt(32)) )**2 for t in range(10)]"
   ]
  },
  {
   "cell_type": "code",
   "execution_count": null,
   "id": "bb54f0f1-ef96-478d-aa28-3f165ea89c56",
   "metadata": {},
   "outputs": [],
   "source": [
    "grover_qc = create_fixed_point_circuit('00101', 8, 1)\n",
    "grover_qc.measure_all()\n",
    "result = AerSimulator().run(grover_qc, shots=1024, memory=True).result()\n",
    "counts = result.get_counts()\n",
    "plot_histogram(counts)"
   ]
  },
  {
   "cell_type": "markdown",
   "id": "6ecc5572-267e-4e18-9be4-24654fbcef2e",
   "metadata": {},
   "source": [
    "As expected 8 steps of Grover's algorithm give a much worse estimate than say 5 steps, while the fixed point algorithm does not suffer from this problem."
   ]
  },
  {
   "cell_type": "markdown",
   "id": "d9ed8988-86f1-4e23-a53e-e9a5621a5523",
   "metadata": {},
   "source": [
    "## References\n",
    "\n",
    "- https://learning.quantum.ibm.com/tutorial/grovers-algorithm\n",
    "- [https://arxiv.org/abs/1409.3305](https://arxiv.org/abs/1409.3305).\n",
    "- See also [https://arxiv.org/abs/2105.02859](https://arxiv.org/abs/2105.02859) for a more general perspective"
   ]
  }
 ],
 "metadata": {
  "kernelspec": {
   "display_name": "Python 3 (ipykernel)",
   "language": "python",
   "name": "python3"
  },
  "language_info": {
   "codemirror_mode": {
    "name": "ipython",
    "version": 3
   },
   "file_extension": ".py",
   "mimetype": "text/x-python",
   "name": "python",
   "nbconvert_exporter": "python",
   "pygments_lexer": "ipython3",
   "version": "3.11.6"
  }
 },
 "nbformat": 4,
 "nbformat_minor": 5
}
