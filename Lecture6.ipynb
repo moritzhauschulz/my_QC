{
 "cells": [
  {
   "cell_type": "code",
   "execution_count": 26,
   "metadata": {},
   "outputs": [],
   "source": [
    "from qiskit import *\n",
    "from qiskit_aer import AerSimulator\n",
    "from qiskit.quantum_info import Pauli\n",
    "from qiskit.visualization import plot_histogram\n",
    "from qiskit.visualization import plot_bloch_multivector\n",
    "from qiskit.quantum_info import Statevector"
   ]
  },
  {
   "cell_type": "code",
   "execution_count": 67,
   "metadata": {},
   "outputs": [],
   "source": [
    "#Implementing Grover from section 7.2.1\n",
    "\n",
    "#First implement U_f\n",
    "\n",
    "def build_U_f(n, a: str):\n",
    "    assert len(a) == n, 'length of a does not match n'\n",
    "    aux = n - 2\n",
    "    N = n + 1 + aux\n",
    "    qc = QuantumCircuit(N, n)\n",
    "    for i, bit in enumerate(a):\n",
    "        if bit == '0':\n",
    "            qc.x(i)\n",
    "    for t in range(n - 1):\n",
    "        qc.ccx(n - 1 + t, n - 2 - t, n + t)\n",
    "    for t in reversed(range(n - 2)):\n",
    "        qc.ccx(n - 1 + t, n - 2 - t, n + t)\n",
    "    for i, bit in enumerate(a):\n",
    "        if bit == '0':\n",
    "            qc.x(i)\n",
    "    return qc\n",
    "\n",
    "def build_W(n: int):\n",
    "    aux = n - 3\n",
    "    N = n + aux\n",
    "    print(N)\n",
    "    W = QuantumCircuit(N)\n",
    "    for i in range(n):\n",
    "        W.h(i)\n",
    "        W.x(i)\n",
    "    for t in range(0, n - 3):\n",
    "        print(t)\n",
    "        print(n+t)\n",
    "        W.ccx(n - 1 + t, n - 2 - t, n + t)\n",
    "    W.ccz(N - 1, 1, 0)\n",
    "    for t in reversed(range(n - 3)):\n",
    "        W.ccx(n - 1 + t, n - 2 - t, n + t)\n",
    "    for i in range(n):\n",
    "        W.x(i)\n",
    "        W.h(i)\n",
    "    return W\n",
    "\n",
    "\n"
   ]
  },
  {
   "cell_type": "code",
   "execution_count": 64,
   "metadata": {},
   "outputs": [
    {
     "data": {
      "image/png": "[encoded data removed]",
      "text/plain": [
       "<Figure size 256.567x367.889 with 1 Axes>"
      ]
     },
     "execution_count": 64,
     "metadata": {},
     "output_type": "execute_result"
    }
   ],
   "source": [
    "W = QuantumCircuit(4)\n",
    "for i in range(4):\n",
    "    W.h(i)\n",
    "\n",
    "W.draw(output='mpl', cregbundle=False, initial_state=True)"
   ]
  },
  {
   "cell_type": "code",
   "execution_count": 68,
   "metadata": {},
   "outputs": [
    {
     "name": "stdout",
     "output_type": "stream",
     "text": [
      "3\n"
     ]
    },
    {
     "data": {
      "image/png": "[encoded data removed]",
      "text/plain": [
       "<Figure size 591.012x284.278 with 1 Axes>"
      ]
     },
     "execution_count": 68,
     "metadata": {},
     "output_type": "execute_result"
    }
   ],
   "source": [
    "build_U_f(4, '1010').draw(output='mpl', cregbundle=False, initial_state=True)\n",
    "build_W(3).draw(output='mpl', cregbundle=False, initial_state=True)"
   ]
  },
  {
   "cell_type": "code",
   "execution_count": 4,
   "metadata": {},
   "outputs": [
    {
     "name": "stdout",
     "output_type": "stream",
     "text": [
      "1\n",
      "<class 'int'>\n",
      "0\n",
      "<class 'int'>\n"
     ]
    }
   ],
   "source": [
    "a = '10'\n",
    "for i in a:\n",
    "    print(i)\n",
    "    print(type(int(i)))"
   ]
  }
 ],
 "metadata": {
  "kernelspec": {
   "display_name": ".venv",
   "language": "python",
   "name": "python3"
  },
  "language_info": {
   "codemirror_mode": {
    "name": "ipython",
    "version": 3
   },
   "file_extension": ".py",
   "mimetype": "text/x-python",
   "name": "python",
   "nbconvert_exporter": "python",
   "pygments_lexer": "ipython3",
   "version": "3.11.6"
  }
 },
 "nbformat": 4,
 "nbformat_minor": 2
}
